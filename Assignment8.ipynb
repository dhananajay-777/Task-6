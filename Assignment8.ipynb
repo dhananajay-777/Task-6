{
  "cells": [
    {
      "cell_type": "markdown",
      "metadata": {
        "id": "PeGhSmeGiV9I"
      },
      "source": [
        "# Assignment8"
      ]
    },
    {
      "cell_type": "code",
      "execution_count": null,
      "metadata": {
        "collapsed": true,
        "id": "3X8r0KW1iV9O"
      },
      "outputs": [],
      "source": [
        "import pandas as pd\n",
        "import matplotlib.pyplot as plt\n",
        "import numpy as np\n",
        "from sklearn import linear_model"
      ]
    },
    {
      "cell_type": "markdown",
      "metadata": {
        "id": "jjI5H1FziV9Q"
      },
      "source": [
        "# How Much is Your Car Worth?\n",
        "\n",
        "Data about the retail price of 2005 General Motors cars can be found in `car_data.csv`.\n",
        "\n",
        "The columns are:\n",
        "\n",
        "1. Price: suggested retail price of the used 2005 GM car in excellent condition.\n",
        "2. Mileage: number of miles the car has been driven\n",
        "3. Make: manufacturer of the car such as Saturn, Pontiac, and Chevrolet\n",
        "4. Model: specific models for each car manufacturer such as Ion, Vibe, Cavalier\n",
        "5. Trim (of car): specific type of car model such as SE Sedan 4D, Quad Coupe 2D          \n",
        "6. Type: body type such as sedan, coupe, etc.      \n",
        "7. Cylinder: number of cylinders in the engine        \n",
        "8. Liter: a more specific measure of engine size     \n",
        "9. Doors: number of doors           \n",
        "10. Cruise: indicator variable representing whether the car has cruise control (1 = cruise)\n",
        "11. Sound: indicator variable representing whether the car has upgraded speakers (1 = upgraded)\n",
        "12. Leather: indicator variable representing whether the car has leather seats (1 = leather)\n",
        "\n",
        "## Tasks, Part 1\n",
        "\n",
        "1. Find the linear regression equation for mileage vs price.\n",
        "2. Chart the original data and the equation on the chart.\n",
        "3. Find the equation's $R^2$ score (use the `.score` method) to determine whether the\n",
        "equation is a good fit for this data. (0.8 and greater is considered a strong correlation.)\n",
        "\n",
        "## Tasks, Part 2\n",
        "\n",
        "1. Use mileage, cylinders, liters, doors, cruise, sound, and leather to find the linear regression equation.\n",
        "2. Find the equation's $R^2$ score (use the `.score` method) to determine whether the\n",
        "equation is a good fit for this data. (0.8 and greater is considered a strong correlation.)\n",
        "3. Find the combination of the factors that is the best predictor for price.\n",
        "\n",
        "## Tasks, Hard Mode\n",
        "\n",
        "1. Research dummy variables in scikit-learn to see how to use the make, model, and body type.\n",
        "2. Find the best combination of factors to predict price."
      ]
    },
    {
      "cell_type": "code",
      "execution_count": 13,
      "metadata": {
        "id": "mkHZO1gniV9R"
      },
      "outputs": [
        {
          "name": "stdout",
          "output_type": "stream",
          "text": [
            "              Price       Mileage    Cylinder       Liter       Doors  \\\n",
            "count    804.000000    804.000000  804.000000  804.000000  804.000000   \n",
            "mean   21343.143767  19831.934080    5.268657    3.037313    3.527363   \n",
            "std     9884.852801   8196.319707    1.387531    1.105562    0.850169   \n",
            "min     8638.930895    266.000000    4.000000    1.600000    2.000000   \n",
            "25%    14273.073870  14623.500000    4.000000    2.200000    4.000000   \n",
            "50%    18024.995019  20913.500000    6.000000    2.800000    4.000000   \n",
            "75%    26717.316636  25213.000000    6.000000    3.800000    4.000000   \n",
            "max    70755.466717  50387.000000    8.000000    6.000000    4.000000   \n",
            "\n",
            "           Cruise       Sound     Leather  \n",
            "count  804.000000  804.000000  804.000000  \n",
            "mean     0.752488    0.679104    0.723881  \n",
            "std      0.431836    0.467111    0.447355  \n",
            "min      0.000000    0.000000    0.000000  \n",
            "25%      1.000000    0.000000    0.000000  \n",
            "50%      1.000000    1.000000    1.000000  \n",
            "75%      1.000000    1.000000    1.000000  \n",
            "max      1.000000    1.000000    1.000000  \n",
            "          Price  Mileage   Make    Model      Trim   Type  Cylinder  Liter  \\\n",
            "0  17314.103129     8221  Buick  Century  Sedan 4D  Sedan         6    3.1   \n",
            "1  17542.036083     9135  Buick  Century  Sedan 4D  Sedan         6    3.1   \n",
            "2  16218.847862    13196  Buick  Century  Sedan 4D  Sedan         6    3.1   \n",
            "3  16336.913140    16342  Buick  Century  Sedan 4D  Sedan         6    3.1   \n",
            "4  16339.170324    19832  Buick  Century  Sedan 4D  Sedan         6    3.1   \n",
            "\n",
            "   Doors  Cruise  Sound  Leather  \n",
            "0      4       1      1        1  \n",
            "1      4       1      1        0  \n",
            "2      4       1      1        0  \n",
            "3      4       1      0        0  \n",
            "4      4       1      0        1  \n"
          ]
        }
      ],
      "source": [
        "import matplotlib.pyplot as plt\n",
        "import pandas as pd\n",
        "import numpy as np\n",
        "from sklearn.model_selection import train_test_split\n",
        "from sklearn.linear_model import LinearRegression\n",
        "from sklearn.preprocessing import PolynomialFeatures\n",
        "from sklearn import linear_model, pipeline, preprocessing\n",
        "\n",
        "import pylab as pl\n",
        "import itertools\n",
        "df = pd.read_csv(\"car_data.csv\")\n",
        "print(df.describe())\n",
        "print(df.head())"
      ]
    },
    {
      "cell_type": "code",
      "execution_count": 3,
      "metadata": {},
      "outputs": [
        {
          "name": "stdout",
          "output_type": "stream",
          "text": [
            "checking for null values\n",
            "Price       0\n",
            "Mileage     0\n",
            "Make        0\n",
            "Model       0\n",
            "Trim        0\n",
            "Type        0\n",
            "Cylinder    0\n",
            "Liter       0\n",
            "Doors       0\n",
            "Cruise      0\n",
            "Sound       0\n",
            "Leather     0\n",
            "dtype: int64\n",
            "Sum of dupilicat rows and columns\n",
            "0\n"
          ]
        }
      ],
      "source": [
        "print(\"checking for null values\")\n",
        "print(df.isnull().sum())\n",
        "print(\"Sum of dupilicat rows and columns\")\n",
        "print(df.duplicated().sum())"
      ]
    },
    {
      "cell_type": "code",
      "execution_count": 6,
      "metadata": {},
      "outputs": [
        {
          "name": "stdout",
          "output_type": "stream",
          "text": [
            "intercept: [24764.55900606]\n",
            "coefficients: [[-0.1725205]]\n",
            "r-squared: 0.02046344732348926\n"
          ]
        }
      ],
      "source": [
        "x = df[['Mileage']]\n",
        "y = df[['Price']]\n",
        "linreg = linear_model.LinearRegression()\n",
        "linreg.fit(x, y)\n",
        "print('intercept:', linreg.intercept_)\n",
        "print('coefficients:', linreg.coef_)\n",
        "print('r-squared:', linreg.score(x, y))"
      ]
    },
    {
      "cell_type": "code",
      "execution_count": 7,
      "metadata": {},
      "outputs": [
        {
          "data": {
            "text/plain": [
              "Text(0.5, 1.0, 'Mileage vs Price')"
            ]
          },
          "execution_count": 7,
          "metadata": {},
          "output_type": "execute_result"
        },
        {
          "data": {
            "image/png": "[encoded data removed]",
            "text/plain": [
              "<Figure size 640x480 with 1 Axes>"
            ]
          },
          "metadata": {},
          "output_type": "display_data"
        }
      ],
      "source": [
        "plt.scatter(x, y, color='r')\n",
        "plt.plot(x, linreg.predict(x))\n",
        "plt.xlabel('Mileage')\n",
        "plt.ylabel('Price')\n",
        "plt.title('Mileage vs Price')"
      ]
    },
    {
      "cell_type": "code",
      "execution_count": 8,
      "metadata": {},
      "outputs": [
        {
          "name": "stdout",
          "output_type": "stream",
          "text": [
            "r-squared:  0.02046344732348926\n"
          ]
        }
      ],
      "source": [
        "print('r-squared: ', linreg.score(x, y))\n",
        "#no strong corelation "
      ]
    },
    {
      "cell_type": "code",
      "execution_count": 36,
      "metadata": {},
      "outputs": [
        {
          "name": "stdout",
          "output_type": "stream",
          "text": [
            "intercept: [6758.7551436]\n",
            "coefficients: [[-1.69747832e-01  3.79237893e+03 -7.87220732e+02 -1.54274585e+03\n",
            "   6.28899715e+03 -1.99379528e+03  3.34936162e+03]]\n"
          ]
        }
      ],
      "source": [
        "# task 2 \n",
        "feature = ['Mileage', 'Cylinder', 'Liter', 'Doors', 'Cruise', 'Sound', 'Leather']\n",
        "x = df[feature]\n",
        "y = df[['Price']]\n",
        "linreg = linear_model.LinearRegression()\n",
        "linreg.fit(x, y)\n",
        "print('intercept:', linreg.intercept_)\n",
        "print('coefficients:', linreg.coef_)"
      ]
    },
    {
      "cell_type": "code",
      "execution_count": 37,
      "metadata": {},
      "outputs": [
        {
          "name": "stdout",
          "output_type": "stream",
          "text": [
            "r-squared:  0.446264353672838\n"
          ]
        }
      ],
      "source": [
        "#finding R square\n",
        "print('r-squared: ', linreg.score(x, y))"
      ]
    },
    {
      "attachments": {},
      "cell_type": "markdown",
      "metadata": {},
      "source": [
        "0.44 is not strong corelation "
      ]
    },
    {
      "cell_type": "code",
      "execution_count": 38,
      "metadata": {},
      "outputs": [
        {
          "name": "stdout",
          "output_type": "stream",
          "text": [
            "7 ['Cylinder', 'Liter', 'Doors', 'Sound', 'Leather'] 0.9083246745184897\n"
          ]
        }
      ],
      "source": [
        "\n",
        "combos = []\n",
        "   \n",
        "for i in range(1, 11):\n",
        "    combos.append(itertools.combinations(feature, i))\n",
        "\n",
        "check_score = 0\n",
        "for combin in combos:\n",
        "    for groupx in combin:\n",
        "        groupx = list(groupx)\n",
        "        x = df[groupx]\n",
        "        degrees = 8\n",
        "        \n",
        "        for degree in range(degrees):\n",
        "            model = pipeline.Pipeline([\n",
        "                    ('poly', preprocessing.PolynomialFeatures(degree=degree)),\n",
        "                    ('linear', linear_model.LinearRegression(fit_intercept=False))])\n",
        "            \n",
        "            model = model.fit(x,y)\n",
        "            model_score = model.score(x, y)\n",
        "        if check_score < model.score(x, y):\n",
        "            check_score = model.score(x, y)\n",
        "            maxgroup = groupx\n",
        "            best_degree = degree\n",
        "            \n",
        "print(degree, maxgroup, check_score)"
      ]
    },
    {
      "cell_type": "code",
      "execution_count": 21,
      "metadata": {},
      "outputs": [
        {
          "name": "stdout",
          "output_type": "stream",
          "text": [
            "                  Price  Mileage  Cylinder  Liter  Doors  Cruise  Sound  \\\n",
            "Make                                                                      \n",
            "Buick      1.665209e+06  1634248       480  293.0    320      80     53   \n",
            "Cadillac   3.274907e+06  1512685       600  351.0    300      80     44   \n",
            "Chevrolet  5.256832e+06  6289788      1600  918.0   1080     191    265   \n",
            "Pontiac    2.761815e+06  2898099       840  495.0    540     113     91   \n",
            "SAAB       3.362396e+06  2389910       456  245.0    396     114     66   \n",
            "Saturn     8.387285e+05  1220145       260  140.0    200      27     27   \n",
            "\n",
            "           Leather  \n",
            "Make                \n",
            "Buick           35  \n",
            "Cadillac        80  \n",
            "Chevrolet      259  \n",
            "Pontiac         96  \n",
            "SAAB            83  \n",
            "Saturn          29  \n",
            "                    Price  Mileage  Cylinder   Liter  Doors  Cruise  Sound  \\\n",
            "Type                                                                         \n",
            "Convertible  2.041585e+06  1035233       280   166.0    100      50     30   \n",
            "Coupe        2.481770e+06  2780241       720   441.0    280     100    109   \n",
            "Hatchback    8.502557e+05  1145453       300   153.0    240      21     48   \n",
            "Sedan        1.032328e+07  9666546      2680  1549.0   1960     390    330   \n",
            "Wagon        1.462992e+06  1317402       256   133.0    256      44     29   \n",
            "\n",
            "             Leather  \n",
            "Type                  \n",
            "Convertible       37  \n",
            "Coupe            110  \n",
            "Hatchback         52  \n",
            "Sedan            337  \n",
            "Wagon             46  \n"
          ]
        },
        {
          "name": "stderr",
          "output_type": "stream",
          "text": [
            "C:\\Users\\dhana\\AppData\\Local\\Temp\\ipykernel_11096\\1983508645.py:2: FutureWarning: The default value of numeric_only in DataFrameGroupBy.sum is deprecated. In a future version, numeric_only will default to False. Either specify numeric_only or select only columns which should be valid for the function.\n",
            "  print(df.groupby([\"Make\"]).sum())\n",
            "C:\\Users\\dhana\\AppData\\Local\\Temp\\ipykernel_11096\\1983508645.py:3: FutureWarning: The default value of numeric_only in DataFrameGroupBy.sum is deprecated. In a future version, numeric_only will default to False. Either specify numeric_only or select only columns which should be valid for the function.\n",
            "  print(df.groupby([\"Type\"]).sum())\n"
          ]
        }
      ],
      "source": [
        "#Task 3\n",
        "df_with_dummies = pd.get_dummies(df, columns = ['Make', 'Model', 'Type'])\n",
        "print(df.groupby([\"Make\"]).sum())\n",
        "print(df.groupby([\"Type\"]).sum())"
      ]
    },
    {
      "cell_type": "code",
      "execution_count": 28,
      "metadata": {},
      "outputs": [
        {
          "name": "stdout",
          "output_type": "stream",
          "text": [
            "Intercept: 23983.771909616768\n",
            "Coefficient: [-1.84862466e-01 -1.22610774e+03  5.76120797e+03 -2.06693208e+03\n",
            "  1.11145653e+02  2.95622523e+02  2.34258573e+02 -3.58669276e+03\n",
            " -5.33495094e+03 -5.47974129e+03  6.95098389e+03  1.22732515e+04\n",
            " -4.82285042e+03 -1.69110942e+03 -5.49471851e+03  2.37758514e+03\n",
            " -1.71994175e+03  6.52818455e+03]\n",
            "Score: 0.9363889951039477\n"
          ]
        }
      ],
      "source": [
        "columns = ['Mileage', 'Cylinder', 'Liter', 'Doors', 'Cruise', 'Sound', 'Leather', 'Make_Buick', 'Make_Chevrolet', 'Make_Pontiac', 'Make_SAAB', 'Make_Cadillac', 'Make_Saturn','Type_Sedan', 'Type_Coupe', 'Type_Wagon', 'Type_Hatchback', 'Type_Convertible']\n",
        "X = df_with_dummies[columns]\n",
        "y = df_with_dummies['Price']\n",
        "regr= LinearRegression()\n",
        "regr.fit(X, y)\n",
        "print('Intercept:', regr.intercept_)\n",
        "print('Coefficient:',regr.coef_)\n",
        "print('Score:', regr.score(X, y))"
      ]
    },
    {
      "cell_type": "code",
      "execution_count": 35,
      "metadata": {},
      "outputs": [
        {
          "ename": "KeyboardInterrupt",
          "evalue": "",
          "output_type": "error",
          "traceback": [
            "\u001b[1;31m---------------------------------------------------------------------------\u001b[0m",
            "\u001b[1;31mKeyboardInterrupt\u001b[0m                         Traceback (most recent call last)",
            "Cell \u001b[1;32mIn[35], line 20\u001b[0m\n\u001b[0;32m     15\u001b[0m     model \u001b[39m=\u001b[39m pipeline\u001b[39m.\u001b[39mPipeline([\n\u001b[0;32m     16\u001b[0m             (\u001b[39m'\u001b[39m\u001b[39mpoly\u001b[39m\u001b[39m'\u001b[39m, preprocessing\u001b[39m.\u001b[39mPolynomialFeatures(degree\u001b[39m=\u001b[39mdegree)),\n\u001b[0;32m     17\u001b[0m             (\u001b[39m'\u001b[39m\u001b[39mlinear\u001b[39m\u001b[39m'\u001b[39m, linear_model\u001b[39m.\u001b[39mLinearRegression(fit_intercept\u001b[39m=\u001b[39m\u001b[39mFalse\u001b[39;00m))])\n\u001b[0;32m     19\u001b[0m     model \u001b[39m=\u001b[39m model\u001b[39m.\u001b[39mfit(x,y)\n\u001b[1;32m---> 20\u001b[0m     model_score \u001b[39m=\u001b[39m model\u001b[39m.\u001b[39;49mscore(x, y)\n\u001b[0;32m     21\u001b[0m     storage\u001b[39m=\u001b[39m\u001b[39mdict\u001b[39m([(\u001b[39m1\u001b[39m,degree),(\u001b[39m2\u001b[39m,groupx),(\u001b[39m3\u001b[39m,model_score)])\n\u001b[0;32m     22\u001b[0m \u001b[39m\"\"\"if check_score < model.score(x, y):\u001b[39;00m\n\u001b[0;32m     23\u001b[0m \u001b[39m    check_score = model.score(x, y)\u001b[39;00m\n\u001b[0;32m     24\u001b[0m \u001b[39m    maxgroup = groupx\u001b[39;00m\n\u001b[0;32m     25\u001b[0m \u001b[39m    best_degree = degree\"\"\"\u001b[39;00m\n",
            "File \u001b[1;32m~\\AppData\\Local\\Packages\\PythonSoftwareFoundation.Python.3.10_qbz5n2kfra8p0\\LocalCache\\local-packages\\Python310\\site-packages\\sklearn\\pipeline.py:723\u001b[0m, in \u001b[0;36mPipeline.score\u001b[1;34m(self, X, y, sample_weight)\u001b[0m\n\u001b[0;32m    721\u001b[0m \u001b[39mif\u001b[39;00m sample_weight \u001b[39mis\u001b[39;00m \u001b[39mnot\u001b[39;00m \u001b[39mNone\u001b[39;00m:\n\u001b[0;32m    722\u001b[0m     score_params[\u001b[39m\"\u001b[39m\u001b[39msample_weight\u001b[39m\u001b[39m\"\u001b[39m] \u001b[39m=\u001b[39m sample_weight\n\u001b[1;32m--> 723\u001b[0m \u001b[39mreturn\u001b[39;00m \u001b[39mself\u001b[39m\u001b[39m.\u001b[39msteps[\u001b[39m-\u001b[39m\u001b[39m1\u001b[39m][\u001b[39m1\u001b[39m]\u001b[39m.\u001b[39mscore(Xt, y, \u001b[39m*\u001b[39m\u001b[39m*\u001b[39mscore_params)\n",
            "File \u001b[1;32m~\\AppData\\Local\\Packages\\PythonSoftwareFoundation.Python.3.10_qbz5n2kfra8p0\\LocalCache\\local-packages\\Python310\\site-packages\\sklearn\\base.py:692\u001b[0m, in \u001b[0;36mRegressorMixin.score\u001b[1;34m(self, X, y, sample_weight)\u001b[0m\n\u001b[0;32m    650\u001b[0m \u001b[39m\"\"\"Return the coefficient of determination of the prediction.\u001b[39;00m\n\u001b[0;32m    651\u001b[0m \n\u001b[0;32m    652\u001b[0m \u001b[39mThe coefficient of determination :math:`R^2` is defined as\u001b[39;00m\n\u001b[1;32m   (...)\u001b[0m\n\u001b[0;32m    687\u001b[0m \u001b[39m:class:`~sklearn.multioutput.MultiOutputRegressor`).\u001b[39;00m\n\u001b[0;32m    688\u001b[0m \u001b[39m\"\"\"\u001b[39;00m\n\u001b[0;32m    690\u001b[0m \u001b[39mfrom\u001b[39;00m \u001b[39m.\u001b[39;00m\u001b[39mmetrics\u001b[39;00m \u001b[39mimport\u001b[39;00m r2_score\n\u001b[1;32m--> 692\u001b[0m y_pred \u001b[39m=\u001b[39m \u001b[39mself\u001b[39;49m\u001b[39m.\u001b[39;49mpredict(X)\n\u001b[0;32m    693\u001b[0m \u001b[39mreturn\u001b[39;00m r2_score(y, y_pred, sample_weight\u001b[39m=\u001b[39msample_weight)\n",
            "File \u001b[1;32m~\\AppData\\Local\\Packages\\PythonSoftwareFoundation.Python.3.10_qbz5n2kfra8p0\\LocalCache\\local-packages\\Python310\\site-packages\\sklearn\\linear_model\\_base.py:355\u001b[0m, in \u001b[0;36mLinearModel.predict\u001b[1;34m(self, X)\u001b[0m\n\u001b[0;32m    341\u001b[0m \u001b[39mdef\u001b[39;00m \u001b[39mpredict\u001b[39m(\u001b[39mself\u001b[39m, X):\n\u001b[0;32m    342\u001b[0m     \u001b[39m\"\"\"\u001b[39;00m\n\u001b[0;32m    343\u001b[0m \u001b[39m    Predict using the linear model.\u001b[39;00m\n\u001b[0;32m    344\u001b[0m \n\u001b[1;32m   (...)\u001b[0m\n\u001b[0;32m    353\u001b[0m \u001b[39m        Returns predicted values.\u001b[39;00m\n\u001b[0;32m    354\u001b[0m \u001b[39m    \"\"\"\u001b[39;00m\n\u001b[1;32m--> 355\u001b[0m     \u001b[39mreturn\u001b[39;00m \u001b[39mself\u001b[39;49m\u001b[39m.\u001b[39;49m_decision_function(X)\n",
            "File \u001b[1;32m~\\AppData\\Local\\Packages\\PythonSoftwareFoundation.Python.3.10_qbz5n2kfra8p0\\LocalCache\\local-packages\\Python310\\site-packages\\sklearn\\linear_model\\_base.py:339\u001b[0m, in \u001b[0;36mLinearModel._decision_function\u001b[1;34m(self, X)\u001b[0m\n\u001b[0;32m    336\u001b[0m check_is_fitted(\u001b[39mself\u001b[39m)\n\u001b[0;32m    338\u001b[0m X \u001b[39m=\u001b[39m \u001b[39mself\u001b[39m\u001b[39m.\u001b[39m_validate_data(X, accept_sparse\u001b[39m=\u001b[39m[\u001b[39m\"\u001b[39m\u001b[39mcsr\u001b[39m\u001b[39m\"\u001b[39m, \u001b[39m\"\u001b[39m\u001b[39mcsc\u001b[39m\u001b[39m\"\u001b[39m, \u001b[39m\"\u001b[39m\u001b[39mcoo\u001b[39m\u001b[39m\"\u001b[39m], reset\u001b[39m=\u001b[39m\u001b[39mFalse\u001b[39;00m)\n\u001b[1;32m--> 339\u001b[0m \u001b[39mreturn\u001b[39;00m safe_sparse_dot(X, \u001b[39mself\u001b[39;49m\u001b[39m.\u001b[39;49mcoef_\u001b[39m.\u001b[39;49mT, dense_output\u001b[39m=\u001b[39;49m\u001b[39mTrue\u001b[39;49;00m) \u001b[39m+\u001b[39m \u001b[39mself\u001b[39m\u001b[39m.\u001b[39mintercept_\n",
            "File \u001b[1;32m~\\AppData\\Local\\Packages\\PythonSoftwareFoundation.Python.3.10_qbz5n2kfra8p0\\LocalCache\\local-packages\\Python310\\site-packages\\sklearn\\utils\\extmath.py:192\u001b[0m, in \u001b[0;36msafe_sparse_dot\u001b[1;34m(a, b, dense_output)\u001b[0m\n\u001b[0;32m    188\u001b[0m \u001b[39melse\u001b[39;00m:\n\u001b[0;32m    189\u001b[0m     ret \u001b[39m=\u001b[39m a \u001b[39m@\u001b[39m b\n\u001b[0;32m    191\u001b[0m \u001b[39mif\u001b[39;00m (\n\u001b[1;32m--> 192\u001b[0m     sparse\u001b[39m.\u001b[39;49missparse(a)\n\u001b[0;32m    193\u001b[0m     \u001b[39mand\u001b[39;00m sparse\u001b[39m.\u001b[39missparse(b)\n\u001b[0;32m    194\u001b[0m     \u001b[39mand\u001b[39;00m dense_output\n\u001b[0;32m    195\u001b[0m     \u001b[39mand\u001b[39;00m \u001b[39mhasattr\u001b[39m(ret, \u001b[39m\"\u001b[39m\u001b[39mtoarray\u001b[39m\u001b[39m\"\u001b[39m)\n\u001b[0;32m    196\u001b[0m ):\n\u001b[0;32m    197\u001b[0m     \u001b[39mreturn\u001b[39;00m ret\u001b[39m.\u001b[39mtoarray()\n\u001b[0;32m    198\u001b[0m \u001b[39mreturn\u001b[39;00m ret\n",
            "File \u001b[1;32m~\\AppData\\Local\\Packages\\PythonSoftwareFoundation.Python.3.10_qbz5n2kfra8p0\\LocalCache\\local-packages\\Python310\\site-packages\\scipy\\sparse\\_base.py:1301\u001b[0m, in \u001b[0;36misspmatrix\u001b[1;34m(x)\u001b[0m\n\u001b[0;32m   1297\u001b[0m         \u001b[39melse\u001b[39;00m:\n\u001b[0;32m   1298\u001b[0m             \u001b[39mreturn\u001b[39;00m np\u001b[39m.\u001b[39mzeros(\u001b[39mself\u001b[39m\u001b[39m.\u001b[39mshape, dtype\u001b[39m=\u001b[39m\u001b[39mself\u001b[39m\u001b[39m.\u001b[39mdtype, order\u001b[39m=\u001b[39morder)\n\u001b[1;32m-> 1301\u001b[0m \u001b[39mdef\u001b[39;00m \u001b[39misspmatrix\u001b[39m(x):\n\u001b[0;32m   1302\u001b[0m     \u001b[39m\"\"\"Is x of a sparse matrix type?\u001b[39;00m\n\u001b[0;32m   1303\u001b[0m \n\u001b[0;32m   1304\u001b[0m \u001b[39m    Parameters\u001b[39;00m\n\u001b[1;32m   (...)\u001b[0m\n\u001b[0;32m   1326\u001b[0m \u001b[39m    False\u001b[39;00m\n\u001b[0;32m   1327\u001b[0m \u001b[39m    \"\"\"\u001b[39;00m\n\u001b[0;32m   1328\u001b[0m     \u001b[39mreturn\u001b[39;00m \u001b[39misinstance\u001b[39m(x, spmatrix)\n",
            "\u001b[1;31mKeyboardInterrupt\u001b[0m: "
          ]
        }
      ],
      "source": [
        "combos = []\n",
        "   \n",
        "for i in range(1, 11):\n",
        "    combos.append(itertools.combinations(X, i))\n",
        "\n",
        "check_score = 0\n",
        "storage={}\n",
        "for combin in combos:\n",
        "    for groupx in combin:\n",
        "        groupx = list(groupx)\n",
        "        x = X[groupx]\n",
        "        degrees = 1\n",
        "        \n",
        "        for degree in range(degrees):\n",
        "            model = pipeline.Pipeline([\n",
        "                    ('poly', preprocessing.PolynomialFeatures(degree=degree)),\n",
        "                    ('linear', linear_model.LinearRegression(fit_intercept=False))])\n",
        "            \n",
        "            model = model.fit(x,y)\n",
        "            model_score = model.score(x, y)\n",
        "            storage=dict([(1,degree),(2,groupx),(3,model_score)])\n",
        "        \"\"\"if check_score < model.score(x, y):\n",
        "            check_score = model.score(x, y)\n",
        "            maxgroup = groupx\n",
        "            best_degree = degree\"\"\"\n",
        "Key_max = max(zip(storage.values(), storage.keys()))[3]  \n",
        "print(Key_max)"
      ]
    }
  ],
  "metadata": {
    "colab": {
      "provenance": []
    },
    "kernelspec": {
      "display_name": "Python 3",
      "language": "python",
      "name": "python3"
    },
    "language_info": {
      "codemirror_mode": {
        "name": "ipython",
        "version": 3
      },
      "file_extension": ".py",
      "mimetype": "text/x-python",
      "name": "python",
      "nbconvert_exporter": "python",
      "pygments_lexer": "ipython3",
      "version": "3.10.9"
    },
    "vscode": {
      "interpreter": {
        "hash": "78205b1b5f87c79fbdc796b1d90a9b4c2b4e460cd0193ed573d48cc3cc88d394"
      }
    }
  },
  "nbformat": 4,
  "nbformat_minor": 0
}
